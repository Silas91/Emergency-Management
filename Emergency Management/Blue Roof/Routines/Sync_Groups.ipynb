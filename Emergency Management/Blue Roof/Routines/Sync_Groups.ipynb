{
 "cells": [
  {
   "cell_type": "markdown",
   "metadata": {},
   "source": [
    "SYNC SHEET TO GROUPS"
   ]
  },
  {
   "cell_type": "code",
   "execution_count": null,
   "metadata": {},
   "outputs": [],
   "source": [
    "from arcgis import GIS\n",
    "import pandas as pd"
   ]
  },
  {
   "cell_type": "code",
   "execution_count": null,
   "metadata": {},
   "outputs": [],
   "source": [
    "df =pd.read_csv(r\"C:\\Users\\M3ECHJJJ\\Documents\\BRMS User Access - MASTER.csv\")"
   ]
  },
  {
   "cell_type": "code",
   "execution_count": null,
   "metadata": {},
   "outputs": [],
   "source": [
    "tokens = pd.read_csv(r\"C:\\Users\\M3ECHJJJ\\Documents\\Tokens.csv\", index_col='Site')\n",
    "gis = GIS(tokens.at['uCOP','URL'])s = GIS(\"https://arcportal-ucop-corps.usace.army.mil/s0portal\")"
   ]
  },
  {
   "cell_type": "code",
   "execution_count": null,
   "metadata": {},
   "outputs": [],
   "source": [
    "data_group = gis.groups.search('title:DCO - Blue Roof - Data Team', max_groups=15)[0]\n",
    "qas_group = gis.groups.search('title:DCO - Blue Roof - QA Management', max_groups=15)[0]\n",
    "remote_group = gis.groups.search('title:DCO - Blue Roof QA', max_groups=15)[0]\n",
    "fi_group = gis.groups.search('title:DCO - Blue Roof - FI', max_groups=15)[0]"
   ]
  },
  {
   "cell_type": "code",
   "execution_count": null,
   "metadata": {},
   "outputs": [],
   "source": [
    "remote_user_list=[]\n",
    "data_user_list=[]\n",
    "qas_user_list=[]\n",
    "field_user_list=[]\n",
    "fi_user_list=[]"
   ]
  },
  {
   "cell_type": "code",
   "execution_count": null,
   "metadata": {},
   "outputs": [],
   "source": [
    "for index, row in df[df['REMOTE QA '] =='Y'].iterrows():\n",
    "    try:\n",
    "        user = gis.users.search(query='{} {}'.format(row['FIRST'], row['LAST']))[0]\n",
    "        print(user)\n",
    "        remote_user_list.append(user.username)\n",
    "    except Exception:\n",
    "        pass"
   ]
  },
  {
   "cell_type": "code",
   "execution_count": null,
   "metadata": {},
   "outputs": [],
   "source": [
    "for index, row in df[df['REMOTE FIN INSP'] =='Y'].iterrows():\n",
    "    try:\n",
    "        user = gis.users.search(query='{} {}'.format(row['FIRST'], row['LAST']))[0]\n",
    "        print(user)\n",
    "        fi_user_list.append(user.username)\n",
    "    except Exception:\n",
    "        pass"
   ]
  },
  {
   "cell_type": "code",
   "execution_count": null,
   "metadata": {},
   "outputs": [],
   "source": [
    "for index, row in df[df['QA MGMT'] =='Y'].iterrows():\n",
    "    try:\n",
    "        user = gis.users.search(query='{} {}'.format(row['FIRST'], row['LAST']))[0]\n",
    "        print(user)\n",
    "        qas_user_list.append(user.username)\n",
    "    except Exception:\n",
    "        pass"
   ]
  },
  {
   "cell_type": "code",
   "execution_count": null,
   "metadata": {},
   "outputs": [],
   "source": [
    "for index, row in df[df['DATA MGMT'] =='Y'].iterrows():\n",
    "    try:\n",
    "        user = gis.users.search(query='{}'.format(row['UCOP']))[0]\n",
    "        print(user)\n",
    "        data_user_list.append(user.username)\n",
    "    except Exception:\n",
    "        pass"
   ]
  },
  {
   "cell_type": "code",
   "execution_count": null,
   "metadata": {},
   "outputs": [],
   "source": [
    "remote_group.add_users(remote_user_list)\n",
    "data_group.add_users(data_user_list)\n",
    "qas_group.add_users(qas_user_list)\n",
    "fi_group.add_users(fi_user_list)"
   ]
  },
  {
   "cell_type": "code",
   "execution_count": null,
   "metadata": {},
   "outputs": [],
   "source": [
    "gis = GIS(\"home\")\n",
    "field_group = gis.groups.search('title:DCO - Blue Roof - Field QA', max_groups=15)[0]\n",
    "field_qa_list = field_group.get_members()['users']"
   ]
  },
  {
   "cell_type": "code",
   "execution_count": null,
   "metadata": {},
   "outputs": [],
   "source": [
    "for index, row in df[df['FIELD QA'] =='Y'].iterrows():\n",
    "    try:\n",
    "        user = gis.users.search(query='{} {}'.format(row['FIRST'], row['LAST']))[0]\n",
    "        print(user)\n",
    "        field_user_list.append(user.username)\n",
    "    except Exception:\n",
    "        pass"
   ]
  }
 ],
 "metadata": {
  "kernelspec": {
   "display_name": "Python 3.9.11 ('arcgispro-dev')",
   "language": "python",
   "name": "python3"
  },
  "language_info": {
   "file_extension": ".py",
   "name": "python",
   "version": "3.9.11"
  },
  "vscode": {
   "interpreter": {
    "hash": "f300520519a33866c1c824f8d0720eb1fcecef91f71f4ca32e6f4a0ac37e5b6d"
   }
  }
 },
 "nbformat": 4,
 "nbformat_minor": 2
}
