{
 "cells": [
  {
   "cell_type": "code",
   "execution_count": null,
   "metadata": {},
   "outputs": [],
   "source": [
    "import arcpy\n",
    "import pandas as pd\n",
    "from arcgis import GIS"
   ]
  },
  {
   "cell_type": "code",
   "execution_count": null,
   "metadata": {},
   "outputs": [],
   "source": [
    "pd.set_option('display.max_rows', None)"
   ]
  },
  {
   "cell_type": "code",
   "execution_count": null,
   "metadata": {},
   "outputs": [],
   "source": [
    "tokens = pd.read_csv(r\"C:\\Users\\M3ECHJJJ\\Documents\\Tokens.csv\", index_col='Site')\n",
    "gis = GIS(tokens.at['uCOP','URL'])"
   ]
  },
  {
   "cell_type": "code",
   "execution_count": null,
   "metadata": {},
   "outputs": [],
   "source": [
    "remote_group = gis.groups.search('title:DCO - Blue Roof QA', max_groups=15)[0]"
   ]
  },
  {
   "cell_type": "code",
   "execution_count": null,
   "metadata": {},
   "outputs": [],
   "source": [
    "df =pd.read_excel(r\"W:\\Temporary Roofing\\12.0 Events\\2022\\Ian - FL\\9.0 BRMS\\BRMS User Access\\BRMS User Access - MASTER.xlsx\")"
   ]
  },
  {
   "cell_type": "code",
   "execution_count": null,
   "metadata": {},
   "outputs": [],
   "source": [
    "df =pd.read_csv(r\"C:\\Users\\M3ECHJJJ\\Documents\\BRMS User Access - MASTER.csv\")"
   ]
  },
  {
   "cell_type": "code",
   "execution_count": null,
   "metadata": {},
   "outputs": [],
   "source": [
    "for index, row in df.iterrows():\n",
    "    try:\n",
    "        user = gis.users.search(query='{} {}'.format(row['FIRST'].split(' ')[0], row['LAST']))[0]\n",
    "        df.at[index,'UCOP']=user.username\n",
    "        df.at[index,'UCOP LEVEL']=user.level\n",
    "    except Exception:\n",
    "        print('NOT FOUND: ', row['FIRST'] +' '+ row['LAST'])"
   ]
  },
  {
   "cell_type": "code",
   "execution_count": null,
   "metadata": {},
   "outputs": [],
   "source": [
    "gis = GIS(\"home\")"
   ]
  },
  {
   "cell_type": "code",
   "execution_count": null,
   "metadata": {},
   "outputs": [],
   "source": [
    "for index, row in df.iterrows():\n",
    "    try:\n",
    "        user = gis.users.search(query='{} {}'.format(row['FIRST'].split(' ')[0], row['LAST']))[0]\n",
    "        if \"RSC\" in user.username:\n",
    "            la = time.localtime(user.lastLogin/1000)\n",
    "            if la[0]!= 2022 or la[1]<8:\n",
    "                user = gis.users.search(query='{} {}'.format(row['FIRST'], row['LAST']))[1]\n",
    "        df.at[index,'PARTNERS']=user.username\n",
    "        df.at[index,'PARTNERS LEVEL']=user.level\n",
    "    except Exception:\n",
    "        print('NOT FOUND: ', row['FIRST'] +' '+ row['LAST'])\n",
    "    "
   ]
  },
  {
   "cell_type": "code",
   "execution_count": null,
   "metadata": {},
   "outputs": [],
   "source": [
    "df = df.fillna('')"
   ]
  },
  {
   "cell_type": "code",
   "execution_count": null,
   "metadata": {},
   "outputs": [],
   "source": [
    "df.to_csv(r\"W:\\Temporary Roofing\\12.0 Events\\2022\\Ian - FL\\9.0 BRMS\\BRMS User Access\\BRMS Usernames.csv\")"
   ]
  },
  {
   "cell_type": "code",
   "execution_count": null,
   "metadata": {},
   "outputs": [],
   "source": [
    "df[df['DATA MGMT']=='Y']"
   ]
  },
  {
   "cell_type": "code",
   "execution_count": null,
   "metadata": {},
   "outputs": [],
   "source": [
    "df.columns"
   ]
  },
  {
   "cell_type": "code",
   "execution_count": null,
   "metadata": {},
   "outputs": [],
   "source": [
    "df[df['FIELD QA']=='Y']"
   ]
  },
  {
   "cell_type": "code",
   "execution_count": null,
   "metadata": {},
   "outputs": [],
   "source": [
    "df"
   ]
  },
  {
   "cell_type": "code",
   "execution_count": null,
   "metadata": {},
   "outputs": [],
   "source": []
  }
 ],
 "metadata": {
  "kernelspec": {
   "display_name": "Python 3.9.11 ('arcgispro-dev')",
   "language": "python",
   "name": "python3"
  },
  "language_info": {
   "file_extension": ".py",
   "name": "python",
   "version": "3.9.11"
  },
  "vscode": {
   "interpreter": {
    "hash": "f300520519a33866c1c824f8d0720eb1fcecef91f71f4ca32e6f4a0ac37e5b6d"
   }
  }
 },
 "nbformat": 4,
 "nbformat_minor": 2
}
