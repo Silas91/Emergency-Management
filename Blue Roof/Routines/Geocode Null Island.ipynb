{
 "cells": [
  {
   "cell_type": "code",
   "execution_count": 41,
   "metadata": {},
   "outputs": [],
   "source": [
    "from arcgis.gis import GIS\n",
    "import json\n",
    "import pandas as pd\n",
    "import urllib.request as request\n",
    "tokens = pd.read_csv(r\"C:\\Users\\M3ECHJJJ\\Documents\\Tokens.csv\", index_col='Site')"
   ]
  },
  {
   "cell_type": "code",
   "execution_count": 43,
   "metadata": {},
   "outputs": [],
   "source": [
    "gis = GIS(tokens.at['uCOP','URL']))\n",
    "br_layer_item = gis.content.get('f74235ef42c547e3ad976135d0761c98')\n",
    "br_layers = br_layer_item.layers\n",
    "df=br_layers[0].query(where=\"flagroe = 'Valid' OR flagroe = 'Geocode Error'\").sdf\n",
    "#br_features = br_fset.features\n",
    "br_flayer = br_layers[0]"
   ]
  },
  {
   "cell_type": "code",
   "execution_count": 17,
   "metadata": {},
   "outputs": [],
   "source": [
    "def geocode(addressLine):\n",
    "    addressLine = addressLine.replace(' ','%20')\n",
    "    with request.urlopen(r'https://geocode.arcgis.com/arcgis/rest/services/World/GeocodeServer/findAddressCandidates?Address=' + addressLine + '&outFields=*&forStorage=false&f=pjson') as response:\n",
    "        source = response.read()\n",
    "        data = json.loads(source)\n",
    "    y1 = data['candidates'][0].get(\"location\",{}).get(\"y\")\n",
    "    x1 = data['candidates'][0].get(\"location\",{}).get(\"x\")\n",
    "    #number1 = data['candidates'][0].get(\"attributes\",{}).get(\"AddNum\")\n",
    "    #street1 = data['candidates'][0].get(\"attributes\",{}).get(\"StName\")\n",
    "    #city1 = data['candidates'][0].get(\"attributes\",{}).get(\"City\")\n",
    "    #state1 = data['candidates'][0].get(\"attributes\",{}).get(\"Subregion\")\n",
    "    #zip1 = data['candidates'][0].get(\"attributes\",{}).get(\"Postal\")\n",
    "    score1 = int(data['candidates'][0].get(\"score\",{}))\n",
    "        \n",
    "    return x1, y1, score1"
   ]
  },
  {
   "cell_type": "code",
   "execution_count": 18,
   "metadata": {},
   "outputs": [],
   "source": [
    "null_list = []"
   ]
  },
  {
   "cell_type": "code",
   "execution_count": 19,
   "metadata": {},
   "outputs": [],
   "source": [
    "for index,row in df.iterrows():\n",
    "    #print(f.geometry)\n",
    "    try:\n",
    "        if row['SHAPE']['x']>-80 or row['SHAPE']['x']<-85 or row['SHAPE']['y']>28 or row['SHAPE']['y']<24:\n",
    "            null_list.append(row['OBJECTID'])\n",
    "    except:\n",
    "        null_list.append(row['OBJECTID'])"
   ]
  },
  {
   "cell_type": "code",
   "execution_count": 186,
   "metadata": {},
   "outputs": [],
   "source": [
    "updates_to_push = []"
   ]
  },
  {
   "cell_type": "code",
   "execution_count": 189,
   "metadata": {},
   "outputs": [
    {
     "name": "stdout",
     "output_type": "stream",
     "text": [
      "'ascii' codec can't encode character '\\u2019' in position 96: ordinal not in range(128)\n",
      "HTTP Error 403: \n",
      "HTTP Error 403: \n",
      "HTTP Error 403: \n",
      "HTTP Error 403: \n",
      "'ascii' codec can't encode character '\\u0142' in position 106: ordinal not in range(128)\n",
      "HTTP Error 403: \n",
      "'ascii' codec can't encode character '\\xe7' in position 105: ordinal not in range(128)\n",
      "list index out of range\n",
      "'ascii' codec can't encode character '\\xe9' in position 122: ordinal not in range(128)\n",
      "HTTP Error 403: \n",
      "'ascii' codec can't encode character '\\xe1' in position 97: ordinal not in range(128)\n",
      "'ascii' codec can't encode character '\\xe3' in position 113: ordinal not in range(128)\n",
      "276/289\r"
     ]
    }
   ],
   "source": [
    "i=1\n",
    "for index,row in df[df.OBJECTID.isin(null_list)].iterrows():\n",
    "    try:\n",
    "        print('{0}/{1}'.format(i,str(len(null_list))), end = \"\\r\")\n",
    "        addressLine = row['appaddress']+' '+row['appcityname'] +' '+row['appstate']+''+str(row['appzipcode'])+row['appcountyname']\n",
    "        x, y, score = geocode(addressLine)\n",
    "        if score >=90:\n",
    "            feat = {\"geometry\":{\"x\":x,\"y\":y},\"attributes\":{'OBJECTID':row['OBJECTID'],'latitude':y,'longitude':x,'flagroe':'Valid'}}\n",
    "        else:\n",
    "            feat = {'geometry':{'x':float(x),'y':float(y)},'attributes':{'OBJECTID':row['OBJECTID'],'latitude':float(y),'longitude':float(x),'flagroe':'Geocode Error'}}\n",
    "        updates_to_push.append(feat)\n",
    "        i=i+1\n",
    "    except Exception as e:\n",
    "        print(e)"
   ]
  },
  {
   "cell_type": "code",
   "execution_count": 190,
   "metadata": {},
   "outputs": [],
   "source": [
    "update_result = br_flayer.edit_features(updates=updates_to_push, rollback_on_failure=False)"
   ]
  },
  {
   "cell_type": "code",
   "execution_count": 646,
   "metadata": {},
   "outputs": [
    {
     "data": {
      "text/plain": [
       "[315170, 315207, 315236, 315245, 315266, 315309, 315318, 315321, 315332, 315333, 315335, 315365, 315392, 315395, 315444, 315458, 315465, 315466, 315836]"
      ]
     },
     "execution_count": 646,
     "metadata": {},
     "output_type": "execute_result"
    }
   ],
   "source": []
  },
  {
   "cell_type": "code",
   "execution_count": 20,
   "metadata": {},
   "outputs": [
    {
     "data": {
      "text/plain": [
       "471"
      ]
     },
     "execution_count": 20,
     "metadata": {},
     "output_type": "execute_result"
    }
   ],
   "source": [
    "len(null_list)"
   ]
  },
  {
   "cell_type": "code",
   "execution_count": null,
   "metadata": {},
   "outputs": [],
   "source": []
  }
 ],
 "metadata": {
  "kernelspec": {
   "display_name": "Python 3.9.11 ('arcgispro-dev')",
   "language": "python",
   "name": "python3"
  },
  "language_info": {
   "file_extension": ".py",
   "name": "python",
   "version": "3.9.11"
  },
  "vscode": {
   "interpreter": {
    "hash": "f300520519a33866c1c824f8d0720eb1fcecef91f71f4ca32e6f4a0ac37e5b6d"
   }
  }
 },
 "nbformat": 4,
 "nbformat_minor": 2
}
