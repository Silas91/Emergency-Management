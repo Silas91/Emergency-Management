{
 "cells": [
  {
   "cell_type": "code",
   "execution_count": null,
   "metadata": {},
   "outputs": [],
   "source": [
    "import arcpy\n",
    "import pandas as pd\n",
    "from arcgis import GIS"
   ]
  },
  {
   "cell_type": "code",
   "execution_count": null,
   "metadata": {},
   "outputs": [],
   "source": [
    "sde_connection = r\"C:\\Users\\M3ECHJJJ\\Documents\\ArcGIS\\Projects\\Blue_Roof\\Partners_BlueRoof.sde\""
   ]
  },
  {
   "cell_type": "code",
   "execution_count": null,
   "metadata": {},
   "outputs": [],
   "source": [
    "df = pd.DataFrame(columns=['name','user','type'])"
   ]
  },
  {
   "cell_type": "code",
   "execution_count": null,
   "metadata": {},
   "outputs": [],
   "source": [
    "gis = GIS(\"home\")\n",
    "field_group = gis.groups.search('title:DCO - Blue Roof - Field QA', max_groups=15)[0]\n",
    "field_qa_list = field_group.get_members()['users']\n",
    "for i in field_qa_list:\n",
    "    try:\n",
    "        usnm = gis.users.get(username=i).fullName.replace('.civ','')\n",
    "        usnm = (usnm.split('.')[-1]+', '+ usnm.split('.')[0]+' '+ usnm.split('.')[1]).title()\n",
    "        usnm = ''.join([i for i in usnm if not i.isdigit()])\n",
    "        df.loc[len(df.index)] = [usnm, i,'Field']\n",
    "        print(usnm)\n",
    "    except Exception as e:\n",
    "        usnm = usnm.split(' ')[1]+', '+usnm.split(' ')[0]\n",
    "        df.loc[len(df.index)] = [usnm, i,'Field']\n",
    "        print('-',usnm)"
   ]
  },
  {
   "cell_type": "code",
   "execution_count": null,
   "metadata": {},
   "outputs": [],
   "source": [
    "tokens = pd.read_csv(r\"C:\\Users\\M3ECHJJJ\\Documents\\Tokens.csv\", index_col='Site')\n",
    "gis = GIS(tokens.at['uCOP','URL'])\n",
    "remote_group = gis.groups.search('title:DCO - Blue Roof QA', max_groups=15)[0]\n",
    "new_row = pd.DataFrame({'name':'_Open to Anyone', 'user':'_Open', 'type':'Remote'}, index =[0])\n",
    "\n",
    "remote_qa_list = remote_group.get_members()['users']\n",
    "for i in remote_qa_list:\n",
    "    rem = i.split('@')[0].lower()\n",
    "    usnm = gis.users.get(username=i).fullName.replace(rem,'')\n",
    "    usnm = usnm.split(', ')[0]+ ', ' + usnm.split(', ')[1]\n",
    "\n",
    "    df.loc[len(df.index)] = [usnm, i,'Remote']\n",
    "    print(usnm)\n",
    "df_group = pd.concat([new_row, df[:]]).reset_index(drop = True)"
   ]
  },
  {
   "cell_type": "code",
   "execution_count": null,
   "metadata": {},
   "outputs": [],
   "source": [
    "df = df.sort_values('name')\n",
    "df = pd.concat([new_row, df[:]]).reset_index(drop = True)"
   ]
  },
  {
   "cell_type": "code",
   "execution_count": null,
   "metadata": {},
   "outputs": [],
   "source": [
    "domains = arcpy.da.ListDomains(sde_connection)\n",
    "for domain in domains:\n",
    "    if domain.name == 'QA_Names':\n",
    "        coded_values = domain.codedValues"
   ]
  },
  {
   "cell_type": "code",
   "execution_count": null,
   "metadata": {},
   "outputs": [],
   "source": [
    "for index, row in df.iterrows():\n",
    "    try:\n",
    "        try:\n",
    "            coded_values[row['user']]\n",
    "            print('{0} : Exists - {1}'.format(str(index+1)+'/'+str(len(df)),row['name']+' ('+row['type']+')              '), end = \"\\r\")\n",
    "        except KeyError:\n",
    "            print('{0} : Adding - {1}'.format(str(index+1)+'/'+str(len(df)),row['name']+' ('+row['type']+')              '), end = \"\\r\")\n",
    "            arcpy.AddCodedValueToDomain_management(sde_connection, \"QA_Names\", row['user'], row['name']+' ('+row['type']+')')\n",
    "    except Exception as e:\n",
    "        print(e)"
   ]
  },
  {
   "cell_type": "code",
   "execution_count": null,
   "metadata": {
    "scrolled": true
   },
   "outputs": [],
   "source": [
    "arcpy.SortCodedValueDomain_management(sde_connection, \"QA_Names\", \"DESCRIPTION\", \"ASCENDING\")"
   ]
  },
  {
   "cell_type": "code",
   "execution_count": null,
   "metadata": {},
   "outputs": [],
   "source": [
    "df.sort_values('name')"
   ]
  },
  {
   "cell_type": "code",
   "execution_count": null,
   "metadata": {},
   "outputs": [],
   "source": [
    "len(df[df['type']=='Field'])"
   ]
  },
  {
   "cell_type": "code",
   "execution_count": null,
   "metadata": {},
   "outputs": [],
   "source": [
    "len(field_qa_list)"
   ]
  },
  {
   "cell_type": "code",
   "execution_count": null,
   "metadata": {},
   "outputs": [],
   "source": [
    "field_group"
   ]
  },
  {
   "cell_type": "code",
   "execution_count": null,
   "metadata": {},
   "outputs": [],
   "source": [
    "gis = GIS(\"home\")\n",
    "field_group = gis.groups.search('title:DCO - Blue Roof - FI', max_groups=15)[0]\n",
    "field_qa_list = field_group.get_members()['users']\n",
    "for i in field_qa_list:\n",
    "    try:\n",
    "        usnm = gis.users.get(username=i).fullName.replace('.civ','')\n",
    "        usnm = (usnm.split('.')[-1]+', '+ usnm.split('.')[0]+' '+ usnm.split('.')[1]).title()\n",
    "        usnm = ''.join([i for i in usnm if not i.isdigit()])\n",
    "        df.loc[len(df.index)] = [usnm, i,'Field']\n",
    "        print(usnm)\n",
    "    except Exception as e:\n",
    "        usnm = usnm.split(' ')[1]+', '+usnm.split(' ')[0]\n",
    "        df.loc[len(df.index)] = [usnm, usnm,'Field']\n",
    "        print('-',usnm)"
   ]
  },
  {
   "cell_type": "code",
   "execution_count": null,
   "metadata": {},
   "outputs": [],
   "source": [
    "field_qa_list"
   ]
  },
  {
   "cell_type": "code",
   "execution_count": null,
   "metadata": {},
   "outputs": [],
   "source": [
    "domains = arcpy.da.ListDomains(sde_connection)\n",
    "for domain in domains:\n",
    "    if domain.name == 'FI_Names':\n",
    "        coded_values = domain.codedValues"
   ]
  },
  {
   "cell_type": "code",
   "execution_count": null,
   "metadata": {},
   "outputs": [],
   "source": [
    "df"
   ]
  },
  {
   "cell_type": "code",
   "execution_count": null,
   "metadata": {},
   "outputs": [],
   "source": []
  }
 ],
 "metadata": {
  "kernelspec": {
   "display_name": "ArcGISPro",
   "language": "Python",
   "name": "python3"
  },
  "language_info": {
   "file_extension": ".py",
   "name": "python",
   "version": "3"
  }
 },
 "nbformat": 4,
 "nbformat_minor": 2
}
